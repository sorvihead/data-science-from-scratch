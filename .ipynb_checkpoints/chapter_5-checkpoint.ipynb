{
 "cells": [
  {
   "cell_type": "markdown",
   "metadata": {},
   "source": [
    "# Статистика"
   ]
  },
  {
   "cell_type": "markdown",
   "metadata": {},
   "source": [
    "## Из предыдущего урока"
   ]
  },
  {
   "cell_type": "code",
   "execution_count": 16,
   "metadata": {},
   "outputs": [],
   "source": [
    "def dot(v, w):\n",
    "    return sum(v_i * w_i for v_i, w_i in zip(v, w))"
   ]
  },
  {
   "cell_type": "code",
   "execution_count": 17,
   "metadata": {},
   "outputs": [],
   "source": [
    "def sum_of_squares(v):\n",
    "    return dot(v, v)"
   ]
  },
  {
   "cell_type": "markdown",
   "metadata": {},
   "source": [
    "## Показатели вариации\n",
    "\n",
    "Показатели вариации отражают меру изменчивости данных.\n",
    "Самый простой показатель - размах, разница между минимальным и максимальным значением в наборе данных."
   ]
  },
  {
   "cell_type": "code",
   "execution_count": 2,
   "metadata": {},
   "outputs": [],
   "source": [
    "def data_range(x):\n",
    "    return max(x) - min(x)"
   ]
  },
  {
   "cell_type": "markdown",
   "metadata": {},
   "source": [
    "Более точным показателем вариации является дисперсия (сумма квадратов отклонений от среднего)"
   ]
  },
  {
   "cell_type": "code",
   "execution_count": 18,
   "metadata": {},
   "outputs": [
    {
     "name": "stdout",
     "output_type": "stream",
     "text": [
      "[-1.0, 0.0, 1.0]\n",
      "0.0\n",
      "1.0\n"
     ]
    }
   ],
   "source": [
    "def de_mean(x):  # вектор отклонений от среднего\n",
    "    x_bar = sum(x) / len(x)\n",
    "    return [x_i - x_bar for x_i in x]\n",
    "\n",
    "\n",
    "a = [1, 2, 3]\n",
    "de_mean_a = de_mean(a)\n",
    "print(de_mean_a)\n",
    "print(sum(de_mean_a) / len(de_mean_a))  # среднее - 0\n",
    "\n",
    "\n",
    "def variance(x):  # дисперсия\n",
    "    n = len(x)\n",
    "    deviations = de_mean(x)\n",
    "    return sum_of_squares(deviations) / (n-1) \n",
    "\n",
    "\n",
    "print(variance(a))"
   ]
  },
  {
   "cell_type": "markdown",
   "metadata": {},
   "source": [
    "### Стандартное отклонение"
   ]
  },
  {
   "cell_type": "markdown",
   "metadata": {},
   "source": [
    "Поскольку дисперсия оперирует единицами измерения в виде \"квадрат переменной\", то такие значение трудно интерпретировать, вместо этого чаще используется стандартное отклонение"
   ]
  },
  {
   "cell_type": "code",
   "execution_count": 20,
   "metadata": {},
   "outputs": [],
   "source": [
    "import math\n",
    "\n",
    "\n",
    "def standard_devation(x):\n",
    "    return math.sqrt(variance(x))"
   ]
  },
  {
   "cell_type": "markdown",
   "metadata": {},
   "source": [
    "### Квантиль"
   ]
  },
  {
   "cell_type": "markdown",
   "metadata": {},
   "source": [
    "Обобщением медианы является квантиль - значение, меньше которого расположен определенный процент данных. (Медиана - это значение меньше которого расположены 50% данных)"
   ]
  },
  {
   "cell_type": "code",
   "execution_count": 13,
   "metadata": {
    "scrolled": true
   },
   "outputs": [
    {
     "name": "stdout",
     "output_type": "stream",
     "text": [
      "2\n"
     ]
    }
   ],
   "source": [
    "def quantile(x, p):\n",
    "    p_index = int(p*len(x))\n",
    "    return sorted(x)[p_index]\n",
    "\n",
    "\n",
    "print(quantile([1, 2, 3], 0.5))"
   ]
  },
  {
   "cell_type": "markdown",
   "metadata": {},
   "source": [
    "### Интерквартиль"
   ]
  },
  {
   "cell_type": "markdown",
   "metadata": {},
   "source": [
    "Размах и стандартное отклонение так же чувствительны к выбросам, как и среднее. Надежной альтернативой является вычисление интерквартильного размаха или разности между значением, соответствующим 75%, и значением соответствующим 25%  данных. Этот показатель позволяет простым образом исключить влияние небольшого числа выбросов."
   ]
  },
  {
   "cell_type": "code",
   "execution_count": 15,
   "metadata": {},
   "outputs": [],
   "source": [
    "def interquartile_range(x):\n",
    "    return quantile(x, 0.75) - quantile(x, 0.25)"
   ]
  },
  {
   "cell_type": "markdown",
   "metadata": {},
   "source": [
    "## Корреляция"
   ]
  },
  {
   "cell_type": "markdown",
   "metadata": {},
   "source": [
    "### Ковариация\n",
    "Ковариация является парным аналогом дисперсии. В отличии от дисперсии, которая измеряет отклонение одной переменной от её среднего, ковариация измеряет совместное отклонение двух переменных от своих средних. Большая положительная ковариация говорит о том, что при больших y, х старается принимать большие значения, и наоборот. Большая отрицательная ковариация говорит об обратном. Ковариация близкая к нулю, говорит о том, что такой связи нет. НО у ковариации сложно определить где она становится \"большой\""
   ]
  },
  {
   "cell_type": "code",
   "execution_count": 19,
   "metadata": {},
   "outputs": [],
   "source": [
    "def covariance(x, y):\n",
    "    n = len(x)\n",
    "    return dot(de_mean(x), de_mean(y)) / (n-1)"
   ]
  },
  {
   "cell_type": "markdown",
   "metadata": {},
   "source": [
    "Корреляция, в которой ковариация распределяется между стандартными отклонениями обеих переменных.\n",
    "\n",
    "Корреляция является безразмерной величиной , которая находится в интервале между -1 и 1, где -1 - это идеальная антикорелляция, а 1 идеальная корреляция. 0 - корреляции нет."
   ]
  },
  {
   "cell_type": "code",
   "execution_count": 22,
   "metadata": {},
   "outputs": [],
   "source": [
    "def correlation(x, y):\n",
    "    stdev_x = standard_devation(x)\n",
    "    stdev_y = standard_devation(y)\n",
    "    if stdev_x > 0 and stdev_y > 0:\n",
    "        return covariance(x, y) / stdev_x / stdev_y\n",
    "    else:\n",
    "        return 0"
   ]
  },
  {
   "cell_type": "markdown",
   "metadata": {},
   "source": [
    "## Парадокс Симпсона"
   ]
  },
  {
   "cell_type": "markdown",
   "metadata": {},
   "source": [
    "Нередко при анализе данных вызывает удивление парадокс Симпсона, при котором корреляции могут быть обманчивыми, если игнорируются спутывающие переменные.\n",
    "Спутывающая переменная - внешняя переменная статистической модели, которая коррелирует как с зависимой, так и с независимой переменной. Её игнорирование приводит к смещению оценки модели."
   ]
  },
  {
   "cell_type": "code",
   "execution_count": null,
   "metadata": {},
   "outputs": [],
   "source": []
  }
 ],
 "metadata": {
  "kernelspec": {
   "display_name": "Python 3",
   "language": "python",
   "name": "python3"
  },
  "language_info": {
   "codemirror_mode": {
    "name": "ipython",
    "version": 3
   },
   "file_extension": ".py",
   "mimetype": "text/x-python",
   "name": "python",
   "nbconvert_exporter": "python",
   "pygments_lexer": "ipython3",
   "version": "3.7.6"
  }
 },
 "nbformat": 4,
 "nbformat_minor": 4
}
